{
 "cells": [
  {
   "cell_type": "markdown",
   "id": "3da04b92-e4ae-4ba7-af5d-3583218d7fc3",
   "metadata": {},
   "source": [
    "<h1>Install the dependecies and create directory for the files</h1>"
   ]
  },
  {
   "cell_type": "code",
   "execution_count": null,
   "id": "fbce58ae-973b-46ae-a8ac-9100ba057e04",
   "metadata": {
    "vscode": {
     "languageId": "shellscript"
    }
   },
   "outputs": [],
   "source": [
    "# %pip install -q -U llama-hub unstructured\n",
    "# %pip install -q -U \"unstructured[doc,docx,ppt,pptx,pdf,image]\"\n",
    "# %pip install -q -U llama-index\n",
    "# %pip install -q -U llama-index\n",
    "# %pip install -q -U unstructured\n",
    "# %pip install -q -U transformers\n",
    "# %pip install -q -U torch\n",
    "# %pip install -q -U accelerate\n",
    "# %pip install -q -U llama-cpp-python\n",
    "# %pip install -q -U langchain\n",
    "# %pip install -q -U sentence-transformers\n",
    "\n",
    "# Other dependencies. Already installed via terminal\n",
    "# curl -L https://github.com/conda-forge/miniforge/releases/latest/download/Miniforge3-MacOSX-arm64.sh -o Miniforge3-MacOSX-arm64.sh\n",
    "# bash Miniforge3-MacOSX-arm64.sh\n",
    "# %mkdir data"
   ]
  },
  {
   "cell_type": "markdown",
   "id": "b629f996-643b-487e-b2c6-7096b9be0870",
   "metadata": {},
   "source": [
    "<h1>Load the data and construct the index</h1>"
   ]
  },
  {
   "cell_type": "code",
   "execution_count": null,
   "id": "226eecf0-f978-4275-8e81-ecb879961bf0",
   "metadata": {},
   "outputs": [],
   "source": [
    "# from pathlib import Path\n",
    "import os\n",
    "from llama_index import download_loader, SimpleDirectoryReader, VectorStoreIndex, ServiceContext, StorageContext, load_index_from_storage\n",
    "from llama_index.llms import LlamaCPP\n",
    "from llama_index.embeddings import HuggingFaceEmbedding   # use Huggingface embeddings   # loads BAAI/bge-small-en   # embed_model = HuggingFaceEmbedding()\n",
    "from llama_index.llms.llama_utils import messages_to_prompt, completion_to_prompt\n",
    "from llama_hub.file.unstructured.base import UnstructuredReader\n",
    "from IPython.display import Markdown, display\n",
    "\n",
    "UnstructuredReader = download_loader(\"UnstructuredReader\")\n",
    "\n",
    "def construct_index(directory_path):\n",
    "    llm = LlamaCPP(\n",
    "    model_path=\"/Users/balungelir21/Documents/LlamaIndex_Chat/codellama-13b-instruct.Q5_K_M.gguf\", #Add the model Path here!!!!!!!!!!!!\n",
    "    temperature=0.3,\n",
    "    max_new_tokens=1024,\n",
    "    # llama2 has a context window of 4096 tokens, but we set it lower to allow for some wiggle room\n",
    "    context_window=3900,\n",
    "    # kwargs to pass to __call__()\n",
    "    generate_kwargs={},\n",
    "    # kwargs to pass to __init__()\n",
    "    # set to at least 1 to use GPU\n",
    "    model_kwargs={},\n",
    "    # transform inputs into Llama2 format\n",
    "    messages_to_prompt=messages_to_prompt,\n",
    "    completion_to_prompt=completion_to_prompt,\n",
    "    verbose=True,\n",
    "    )\n",
    "\n",
    "    embed_model_dir = \"/Users/balungelir21/Documents/LlamaIndex_Chat/LlamaIndexChatbot/bge-large-en-v1.5\"\n",
    "    embed_model = HuggingFaceEmbedding(model_name=embed_model_dir)\n",
    "\n",
    "    # check if storage already exists\n",
    "    if(not os.path.exists(\"./storage\")):\n",
    "        # load the documents and create the index\n",
    "        dir_reader = SimpleDirectoryReader(directory_path, file_extractor={\n",
    "          \".txt\": UnstructuredReader(),\n",
    "          \".docx\": UnstructuredReader(),\n",
    "          \".pptx\": UnstructuredReader(),\n",
    "          \".pdf\": UnstructuredReader(),\n",
    "          \".jpg\": UnstructuredReader(),\n",
    "          \".png\": UnstructuredReader(),\n",
    "          \".eml\": UnstructuredReader(),\n",
    "          \".html\": UnstructuredReader(),\n",
    "        })\n",
    "        documents = dir_reader.load_data()\n",
    "\n",
    "        service_context = ServiceContext.from_defaults(llm=llm, chunk_size=1024, embed_model=embed_model)\n",
    "        index = VectorStoreIndex.from_documents(documents, service_context=service_context)\n",
    "\n",
    "        index.storage_context.persist()\n",
    "    else:\n",
    "        # load the existing index\n",
    "        storage_context = StorageContext.from_defaults(persist_dir=\"./storage\")\n",
    "        index = load_index_from_storage(storage_context)\n",
    "\n",
    "    return index"
   ]
  },
  {
   "cell_type": "markdown",
   "id": "230288c1-cfee-4d48-b7b9-9c5c0eee7fe8",
   "metadata": {},
   "source": [
    "<h1>Query the index</h1>"
   ]
  },
  {
   "cell_type": "code",
   "execution_count": null,
   "id": "619fdb39-17eb-4a90-a7d5-af9a73b1899b",
   "metadata": {},
   "outputs": [],
   "source": [
    "# query the index\n",
    "def ask_jarvis():\n",
    "    index = construct_index(\"./data\")\n",
    "    while True:\n",
    "        query_engine = index.as_query_engine()\n",
    "        query = input(\"Hello! What would you like to know?\")\n",
    "        response = query_engine.query(query)\n",
    "        display(Markdown(f\"Response: <b>{response.response}</b>\"))"
   ]
  },
  {
   "cell_type": "code",
   "execution_count": null,
   "id": "17b58dcc-2532-42a6-acc6-42bf82eab918",
   "metadata": {},
   "outputs": [],
   "source": [
    "ask_jarvis()"
   ]
  }
 ],
 "metadata": {
  "kernelspec": {
   "display_name": "Python 3 (ipykernel)",
   "language": "python",
   "name": "python3"
  },
  "language_info": {
   "codemirror_mode": {
    "name": "ipython",
    "version": 3
   },
   "file_extension": ".py",
   "mimetype": "text/x-python",
   "name": "python",
   "nbconvert_exporter": "python",
   "pygments_lexer": "ipython3",
   "version": "3.9.6"
  }
 },
 "nbformat": 4,
 "nbformat_minor": 5
}
